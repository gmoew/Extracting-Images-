{
 "cells": [
  {
   "cell_type": "code",
   "execution_count": 2,
   "id": "ee08e5ad",
   "metadata": {},
   "outputs": [
    {
     "name": "stdout",
     "output_type": "stream",
     "text": [
      "\u001b[2m2025-10-06 08:19:40\u001b[0m [info   \u001b[0m] \u001b[1mSettings loaded: {\n",
      "  \"endpoint_host\": \"https://api.va.landing.ai\",\n",
      "  \"vision_agent_api_key\": \"cGptZ[REDACTED]\",\n",
      "  \"batch_size\": 4,\n",
      "  \"max_workers\": 5,\n",
      "  \"max_retries\": 3,\n",
      "  \"max_retry_wait_time\": 60,\n",
      "  \"retry_logging_style\": \"log_msg\",\n",
      "  \"pdf_to_image_dpi\": 96,\n",
      "  \"split_size\": 10,\n",
      "  \"extraction_split_size\": 50\n",
      "}\u001b[0m [\u001b[0m\u001b[1m\u001b[34magentic_doc.config\u001b[0m]\u001b[0m (config.py:172)\n"
     ]
    }
   ],
   "source": [
    "import os\n",
    "from agentic_doc.parse import parse\n",
    "from agentic_doc.utils import viz_parsed_document\n",
    "from agentic_doc.common import ChunkType\n",
    "from agentic_doc.config import VisualizationConfig"
   ]
  },
  {
   "cell_type": "code",
   "execution_count": 5,
   "id": "5cb03df6",
   "metadata": {},
   "outputs": [],
   "source": [
    "api_key = os.getenv(\"LANDING_API_KEY\")"
   ]
  },
  {
   "cell_type": "code",
   "execution_count": 23,
   "id": "1fcfe132",
   "metadata": {},
   "outputs": [],
   "source": [
    "output_dir = './output_folder'\n",
    "\n",
    "if not os.path.exists(output_dir):\n",
    "    os.makedirs(output_dir)"
   ]
  },
  {
   "cell_type": "code",
   "execution_count": 27,
   "id": "affb2aff",
   "metadata": {},
   "outputs": [],
   "source": [
    "viz_config = VisualizationConfig(\n",
    "    thickness=1,\n",
    "    text_bg_opacity=0.6,\n",
    "    font_scale=0.4\n",
    ")"
   ]
  },
  {
   "cell_type": "code",
   "execution_count": null,
   "id": "640e8943",
   "metadata": {},
   "outputs": [],
   "source": [
    "def parse_image(folder, output_dir, viz_config=None):\n",
    "    count = 0\n",
    "    for filename in os.listdir(folder):\n",
    "        if filename.lower().endswith(('.png', '.jpeg', '.jpg', '.webp')):\n",
    "            image_path = os.path.join(folder, filename)\n",
    "            result = parse(image_path)\n",
    "            doc = result[0]\n",
    "\n",
    "            images = viz_parsed_document(\n",
    "                image_path, \n",
    "                doc,\n",
    "                output_dir=output_dir,\n",
    "                viz_config=viz_config\n",
    "            )\n",
    "            count += 1\n",
    "\n",
    "    return f'{count} images have been processed successfully!'\n"
   ]
  },
  {
   "cell_type": "code",
   "execution_count": null,
   "id": "de7cfb5f",
   "metadata": {},
   "outputs": [
    {
     "name": "stdout",
     "output_type": "stream",
     "text": [
      "\u001b[2m2025-10-01 08:26:16\u001b[0m [info   \u001b[0m] \u001b[1mAPI key is valid.             \u001b[0m [\u001b[0m\u001b[1m\u001b[34magentic_doc.utils\u001b[0m]\u001b[0m (utils.py:42)\n",
      "\u001b[2m2025-10-01 08:26:16\u001b[0m [info   \u001b[0m] \u001b[1mParsing 1 documents           \u001b[0m [\u001b[0m\u001b[1m\u001b[34magentic_doc.parse\u001b[0m]\u001b[0m (parse.py:280)\n"
     ]
    },
    {
     "name": "stderr",
     "output_type": "stream",
     "text": [
      "Parsing documents:   0%|          | 0/1 [00:00<?, ?it/s]"
     ]
    },
    {
     "name": "stdout",
     "output_type": "stream",
     "text": [
      "HTTP Request: POST https://api.va.landing.ai/v1/tools/agentic-document-analysis \"HTTP/1.1 200 OK\" (_client.py:1025)\n",
      "\u001b[2m2025-10-01 08:26:26\u001b[0m [info   \u001b[0m] \u001b[1mTime taken to successfully parse a document chunk: 9.78 seconds\u001b[0m [\u001b[0m\u001b[1m\u001b[34magentic_doc.parse\u001b[0m]\u001b[0m (parse.py:827)\n"
     ]
    },
    {
     "name": "stderr",
     "output_type": "stream",
     "text": [
      "Parsing documents: 100%|██████████| 1/1 [00:09<00:00,  9.79s/it]"
     ]
    },
    {
     "name": "stdout",
     "output_type": "stream",
     "text": [
      "\u001b[2m2025-10-01 08:26:26\u001b[0m [info   \u001b[0m] \u001b[1mVisualizing parsed document of: '/home/bao/RAG_Question_Bank_and_Validation_Code/image/slide5_img2.png'\u001b[0m [\u001b[0m\u001b[1m\u001b[34magentic_doc.utils\u001b[0m]\u001b[0m (utils.py:307)\n"
     ]
    },
    {
     "name": "stderr",
     "output_type": "stream",
     "text": [
      "\n"
     ]
    },
    {
     "name": "stdout",
     "output_type": "stream",
     "text": [
      "\u001b[2m2025-10-01 08:26:27\u001b[0m [info   \u001b[0m] \u001b[1mAPI key is valid.             \u001b[0m [\u001b[0m\u001b[1m\u001b[34magentic_doc.utils\u001b[0m]\u001b[0m (utils.py:42)\n",
      "\u001b[2m2025-10-01 08:26:27\u001b[0m [info   \u001b[0m] \u001b[1mParsing 1 documents           \u001b[0m [\u001b[0m\u001b[1m\u001b[34magentic_doc.parse\u001b[0m]\u001b[0m (parse.py:280)\n"
     ]
    },
    {
     "name": "stderr",
     "output_type": "stream",
     "text": [
      "Parsing documents:   0%|          | 0/1 [00:00<?, ?it/s]"
     ]
    },
    {
     "name": "stdout",
     "output_type": "stream",
     "text": [
      "HTTP Request: POST https://api.va.landing.ai/v1/tools/agentic-document-analysis \"HTTP/1.1 200 OK\" (_client.py:1025)\n",
      "\u001b[2m2025-10-01 08:26:34\u001b[0m [info   \u001b[0m] \u001b[1mTime taken to successfully parse a document chunk: 7.05 seconds\u001b[0m [\u001b[0m\u001b[1m\u001b[34magentic_doc.parse\u001b[0m]\u001b[0m (parse.py:827)\n"
     ]
    },
    {
     "name": "stderr",
     "output_type": "stream",
     "text": [
      "Parsing documents: 100%|██████████| 1/1 [00:07<00:00,  7.06s/it]"
     ]
    },
    {
     "name": "stdout",
     "output_type": "stream",
     "text": [
      "\u001b[2m2025-10-01 08:26:34\u001b[0m [info   \u001b[0m] \u001b[1mVisualizing parsed document of: '/home/bao/RAG_Question_Bank_and_Validation_Code/image/slide7_img2.png'\u001b[0m [\u001b[0m\u001b[1m\u001b[34magentic_doc.utils\u001b[0m]\u001b[0m (utils.py:307)\n"
     ]
    },
    {
     "name": "stderr",
     "output_type": "stream",
     "text": [
      "\n"
     ]
    },
    {
     "name": "stdout",
     "output_type": "stream",
     "text": [
      "\u001b[2m2025-10-01 08:26:35\u001b[0m [info   \u001b[0m] \u001b[1mAPI key is valid.             \u001b[0m [\u001b[0m\u001b[1m\u001b[34magentic_doc.utils\u001b[0m]\u001b[0m (utils.py:42)\n",
      "\u001b[2m2025-10-01 08:26:35\u001b[0m [info   \u001b[0m] \u001b[1mParsing 1 documents           \u001b[0m [\u001b[0m\u001b[1m\u001b[34magentic_doc.parse\u001b[0m]\u001b[0m (parse.py:280)\n"
     ]
    },
    {
     "name": "stderr",
     "output_type": "stream",
     "text": [
      "Parsing documents:   0%|          | 0/1 [00:00<?, ?it/s]"
     ]
    },
    {
     "name": "stdout",
     "output_type": "stream",
     "text": [
      "HTTP Request: POST https://api.va.landing.ai/v1/tools/agentic-document-analysis \"HTTP/1.1 200 OK\" (_client.py:1025)\n",
      "\u001b[2m2025-10-01 08:26:41\u001b[0m [info   \u001b[0m] \u001b[1mTime taken to successfully parse a document chunk: 6.87 seconds\u001b[0m [\u001b[0m\u001b[1m\u001b[34magentic_doc.parse\u001b[0m]\u001b[0m (parse.py:827)\n"
     ]
    },
    {
     "name": "stderr",
     "output_type": "stream",
     "text": [
      "Parsing documents: 100%|██████████| 1/1 [00:05<00:00,  5.67s/it]"
     ]
    },
    {
     "name": "stdout",
     "output_type": "stream",
     "text": [
      "\u001b[2m2025-10-01 08:26:41\u001b[0m [info   \u001b[0m] \u001b[1mVisualizing parsed document of: '/home/bao/RAG_Question_Bank_and_Validation_Code/image/slide9_img4.png'\u001b[0m [\u001b[0m\u001b[1m\u001b[34magentic_doc.utils\u001b[0m]\u001b[0m (utils.py:307)\n"
     ]
    },
    {
     "name": "stderr",
     "output_type": "stream",
     "text": [
      "\n"
     ]
    },
    {
     "name": "stdout",
     "output_type": "stream",
     "text": [
      "\u001b[2m2025-10-01 08:26:42\u001b[0m [info   \u001b[0m] \u001b[1mAPI key is valid.             \u001b[0m [\u001b[0m\u001b[1m\u001b[34magentic_doc.utils\u001b[0m]\u001b[0m (utils.py:42)\n",
      "\u001b[2m2025-10-01 08:26:42\u001b[0m [info   \u001b[0m] \u001b[1mParsing 1 documents           \u001b[0m [\u001b[0m\u001b[1m\u001b[34magentic_doc.parse\u001b[0m]\u001b[0m (parse.py:280)\n"
     ]
    },
    {
     "name": "stderr",
     "output_type": "stream",
     "text": [
      "Parsing documents:   0%|          | 0/1 [00:00<?, ?it/s]"
     ]
    },
    {
     "name": "stdout",
     "output_type": "stream",
     "text": [
      "HTTP Request: POST https://api.va.landing.ai/v1/tools/agentic-document-analysis \"HTTP/1.1 200 OK\" (_client.py:1025)\n",
      "\u001b[2m2025-10-01 08:26:53\u001b[0m [info   \u001b[0m] \u001b[1mTime taken to successfully parse a document chunk: 11.47 seconds\u001b[0m [\u001b[0m\u001b[1m\u001b[34magentic_doc.parse\u001b[0m]\u001b[0m (parse.py:827)\n"
     ]
    },
    {
     "name": "stderr",
     "output_type": "stream",
     "text": [
      "Parsing documents: 100%|██████████| 1/1 [00:11<00:00, 11.47s/it]"
     ]
    },
    {
     "name": "stdout",
     "output_type": "stream",
     "text": [
      "\u001b[2m2025-10-01 08:26:53\u001b[0m [info   \u001b[0m] \u001b[1mVisualizing parsed document of: '/home/bao/RAG_Question_Bank_and_Validation_Code/image/slide47_img1.png'\u001b[0m [\u001b[0m\u001b[1m\u001b[34magentic_doc.utils\u001b[0m]\u001b[0m (utils.py:307)\n"
     ]
    },
    {
     "name": "stderr",
     "output_type": "stream",
     "text": [
      "\n"
     ]
    },
    {
     "name": "stdout",
     "output_type": "stream",
     "text": [
      "\u001b[2m2025-10-01 08:26:55\u001b[0m [info   \u001b[0m] \u001b[1mAPI key is valid.             \u001b[0m [\u001b[0m\u001b[1m\u001b[34magentic_doc.utils\u001b[0m]\u001b[0m (utils.py:42)\n",
      "\u001b[2m2025-10-01 08:26:55\u001b[0m [info   \u001b[0m] \u001b[1mParsing 1 documents           \u001b[0m [\u001b[0m\u001b[1m\u001b[34magentic_doc.parse\u001b[0m]\u001b[0m (parse.py:280)\n"
     ]
    },
    {
     "name": "stderr",
     "output_type": "stream",
     "text": [
      "Parsing documents:   0%|          | 0/1 [00:00<?, ?it/s]"
     ]
    },
    {
     "name": "stdout",
     "output_type": "stream",
     "text": [
      "HTTP Request: POST https://api.va.landing.ai/v1/tools/agentic-document-analysis \"HTTP/1.1 200 OK\" (_client.py:1025)\n",
      "\u001b[2m2025-10-01 08:27:01\u001b[0m [info   \u001b[0m] \u001b[1mTime taken to successfully parse a document chunk: 6.04 seconds\u001b[0m [\u001b[0m\u001b[1m\u001b[34magentic_doc.parse\u001b[0m]\u001b[0m (parse.py:827)\n"
     ]
    },
    {
     "name": "stderr",
     "output_type": "stream",
     "text": [
      "Parsing documents: 100%|██████████| 1/1 [00:06<00:00,  6.04s/it]"
     ]
    },
    {
     "name": "stdout",
     "output_type": "stream",
     "text": [
      "\u001b[2m2025-10-01 08:27:01\u001b[0m [info   \u001b[0m] \u001b[1mVisualizing parsed document of: '/home/bao/RAG_Question_Bank_and_Validation_Code/image/slide42_img3.png'\u001b[0m [\u001b[0m\u001b[1m\u001b[34magentic_doc.utils\u001b[0m]\u001b[0m (utils.py:307)\n"
     ]
    },
    {
     "name": "stderr",
     "output_type": "stream",
     "text": [
      "\n"
     ]
    },
    {
     "name": "stdout",
     "output_type": "stream",
     "text": [
      "\u001b[2m2025-10-01 08:27:02\u001b[0m [info   \u001b[0m] \u001b[1mAPI key is valid.             \u001b[0m [\u001b[0m\u001b[1m\u001b[34magentic_doc.utils\u001b[0m]\u001b[0m (utils.py:42)\n",
      "\u001b[2m2025-10-01 08:27:02\u001b[0m [info   \u001b[0m] \u001b[1mParsing 1 documents           \u001b[0m [\u001b[0m\u001b[1m\u001b[34magentic_doc.parse\u001b[0m]\u001b[0m (parse.py:280)\n"
     ]
    },
    {
     "name": "stderr",
     "output_type": "stream",
     "text": [
      "Parsing documents:   0%|          | 0/1 [00:00<?, ?it/s]"
     ]
    },
    {
     "name": "stdout",
     "output_type": "stream",
     "text": [
      "HTTP Request: POST https://api.va.landing.ai/v1/tools/agentic-document-analysis \"HTTP/1.1 200 OK\" (_client.py:1025)\n",
      "\u001b[2m2025-10-01 08:27:12\u001b[0m [info   \u001b[0m] \u001b[1mTime taken to successfully parse a document chunk: 11.21 seconds\u001b[0m [\u001b[0m\u001b[1m\u001b[34magentic_doc.parse\u001b[0m]\u001b[0m (parse.py:827)\n"
     ]
    },
    {
     "name": "stderr",
     "output_type": "stream",
     "text": [
      "Parsing documents: 100%|██████████| 1/1 [00:10<00:00, 10.01s/it]"
     ]
    },
    {
     "name": "stdout",
     "output_type": "stream",
     "text": [
      "\u001b[2m2025-10-01 08:27:12\u001b[0m [info   \u001b[0m] \u001b[1mVisualizing parsed document of: '/home/bao/RAG_Question_Bank_and_Validation_Code/image/slide13_img1.png'\u001b[0m [\u001b[0m\u001b[1m\u001b[34magentic_doc.utils\u001b[0m]\u001b[0m (utils.py:307)\n"
     ]
    },
    {
     "name": "stderr",
     "output_type": "stream",
     "text": [
      "\n"
     ]
    },
    {
     "name": "stdout",
     "output_type": "stream",
     "text": [
      "\u001b[2m2025-10-01 08:27:13\u001b[0m [info   \u001b[0m] \u001b[1mAPI key is valid.             \u001b[0m [\u001b[0m\u001b[1m\u001b[34magentic_doc.utils\u001b[0m]\u001b[0m (utils.py:42)\n",
      "\u001b[2m2025-10-01 08:27:13\u001b[0m [info   \u001b[0m] \u001b[1mParsing 1 documents           \u001b[0m [\u001b[0m\u001b[1m\u001b[34magentic_doc.parse\u001b[0m]\u001b[0m (parse.py:280)\n"
     ]
    },
    {
     "name": "stderr",
     "output_type": "stream",
     "text": [
      "Parsing documents:   0%|          | 0/1 [00:00<?, ?it/s]"
     ]
    },
    {
     "name": "stdout",
     "output_type": "stream",
     "text": [
      "HTTP Request: POST https://api.va.landing.ai/v1/tools/agentic-document-analysis \"HTTP/1.1 200 OK\" (_client.py:1025)\n",
      "\u001b[2m2025-10-01 08:27:23\u001b[0m [info   \u001b[0m] \u001b[1mTime taken to successfully parse a document chunk: 10.12 seconds\u001b[0m [\u001b[0m\u001b[1m\u001b[34magentic_doc.parse\u001b[0m]\u001b[0m (parse.py:827)\n"
     ]
    },
    {
     "name": "stderr",
     "output_type": "stream",
     "text": [
      "Parsing documents: 100%|██████████| 1/1 [00:10<00:00, 10.12s/it]"
     ]
    },
    {
     "name": "stdout",
     "output_type": "stream",
     "text": [
      "\u001b[2m2025-10-01 08:27:23\u001b[0m [info   \u001b[0m] \u001b[1mVisualizing parsed document of: '/home/bao/RAG_Question_Bank_and_Validation_Code/image/slide43_img1.png'\u001b[0m [\u001b[0m\u001b[1m\u001b[34magentic_doc.utils\u001b[0m]\u001b[0m (utils.py:307)\n"
     ]
    },
    {
     "name": "stderr",
     "output_type": "stream",
     "text": [
      "\n"
     ]
    },
    {
     "name": "stdout",
     "output_type": "stream",
     "text": [
      "\u001b[2m2025-10-01 08:27:24\u001b[0m [info   \u001b[0m] \u001b[1mAPI key is valid.             \u001b[0m [\u001b[0m\u001b[1m\u001b[34magentic_doc.utils\u001b[0m]\u001b[0m (utils.py:42)\n",
      "\u001b[2m2025-10-01 08:27:24\u001b[0m [info   \u001b[0m] \u001b[1mParsing 1 documents           \u001b[0m [\u001b[0m\u001b[1m\u001b[34magentic_doc.parse\u001b[0m]\u001b[0m (parse.py:280)\n"
     ]
    },
    {
     "name": "stderr",
     "output_type": "stream",
     "text": [
      "Parsing documents:   0%|          | 0/1 [00:00<?, ?it/s]"
     ]
    },
    {
     "name": "stdout",
     "output_type": "stream",
     "text": [
      "HTTP Request: POST https://api.va.landing.ai/v1/tools/agentic-document-analysis \"HTTP/1.1 200 OK\" (_client.py:1025)\n",
      "\u001b[2m2025-10-01 08:27:34\u001b[0m [info   \u001b[0m] \u001b[1mTime taken to successfully parse a document chunk: 10.03 seconds\u001b[0m [\u001b[0m\u001b[1m\u001b[34magentic_doc.parse\u001b[0m]\u001b[0m (parse.py:827)\n"
     ]
    },
    {
     "name": "stderr",
     "output_type": "stream",
     "text": [
      "Parsing documents: 100%|██████████| 1/1 [00:10<00:00, 10.03s/it]"
     ]
    },
    {
     "name": "stdout",
     "output_type": "stream",
     "text": [
      "\u001b[2m2025-10-01 08:27:34\u001b[0m [info   \u001b[0m] \u001b[1mVisualizing parsed document of: '/home/bao/RAG_Question_Bank_and_Validation_Code/image/slide31_img3.png'\u001b[0m [\u001b[0m\u001b[1m\u001b[34magentic_doc.utils\u001b[0m]\u001b[0m (utils.py:307)\n"
     ]
    },
    {
     "name": "stderr",
     "output_type": "stream",
     "text": [
      "\n"
     ]
    },
    {
     "name": "stdout",
     "output_type": "stream",
     "text": [
      "\u001b[2m2025-10-01 08:27:35\u001b[0m [info   \u001b[0m] \u001b[1mAPI key is valid.             \u001b[0m [\u001b[0m\u001b[1m\u001b[34magentic_doc.utils\u001b[0m]\u001b[0m (utils.py:42)\n",
      "\u001b[2m2025-10-01 08:27:35\u001b[0m [info   \u001b[0m] \u001b[1mParsing 1 documents           \u001b[0m [\u001b[0m\u001b[1m\u001b[34magentic_doc.parse\u001b[0m]\u001b[0m (parse.py:280)\n"
     ]
    },
    {
     "name": "stderr",
     "output_type": "stream",
     "text": [
      "Parsing documents:   0%|          | 0/1 [00:00<?, ?it/s]"
     ]
    },
    {
     "name": "stdout",
     "output_type": "stream",
     "text": [
      "HTTP Request: POST https://api.va.landing.ai/v1/tools/agentic-document-analysis \"HTTP/1.1 200 OK\" (_client.py:1025)\n",
      "\u001b[2m2025-10-01 08:27:42\u001b[0m [info   \u001b[0m] \u001b[1mTime taken to successfully parse a document chunk: 7.90 seconds\u001b[0m [\u001b[0m\u001b[1m\u001b[34magentic_doc.parse\u001b[0m]\u001b[0m (parse.py:827)\n"
     ]
    },
    {
     "name": "stderr",
     "output_type": "stream",
     "text": [
      "Parsing documents: 100%|██████████| 1/1 [00:06<00:00,  6.68s/it]"
     ]
    },
    {
     "name": "stdout",
     "output_type": "stream",
     "text": [
      "\u001b[2m2025-10-01 08:27:42\u001b[0m [info   \u001b[0m] \u001b[1mVisualizing parsed document of: '/home/bao/RAG_Question_Bank_and_Validation_Code/image/slide31_img1.png'\u001b[0m [\u001b[0m\u001b[1m\u001b[34magentic_doc.utils\u001b[0m]\u001b[0m (utils.py:307)\n"
     ]
    },
    {
     "name": "stderr",
     "output_type": "stream",
     "text": [
      "\n"
     ]
    },
    {
     "name": "stdout",
     "output_type": "stream",
     "text": [
      "\u001b[2m2025-10-01 08:27:43\u001b[0m [info   \u001b[0m] \u001b[1mAPI key is valid.             \u001b[0m [\u001b[0m\u001b[1m\u001b[34magentic_doc.utils\u001b[0m]\u001b[0m (utils.py:42)\n",
      "\u001b[2m2025-10-01 08:27:43\u001b[0m [info   \u001b[0m] \u001b[1mParsing 1 documents           \u001b[0m [\u001b[0m\u001b[1m\u001b[34magentic_doc.parse\u001b[0m]\u001b[0m (parse.py:280)\n"
     ]
    },
    {
     "name": "stderr",
     "output_type": "stream",
     "text": [
      "Parsing documents:   0%|          | 0/1 [00:00<?, ?it/s]"
     ]
    },
    {
     "name": "stdout",
     "output_type": "stream",
     "text": [
      "HTTP Request: POST https://api.va.landing.ai/v1/tools/agentic-document-analysis \"HTTP/1.1 200 OK\" (_client.py:1025)\n",
      "\u001b[2m2025-10-01 08:27:50\u001b[0m [info   \u001b[0m] \u001b[1mTime taken to successfully parse a document chunk: 6.88 seconds\u001b[0m [\u001b[0m\u001b[1m\u001b[34magentic_doc.parse\u001b[0m]\u001b[0m (parse.py:827)\n"
     ]
    },
    {
     "name": "stderr",
     "output_type": "stream",
     "text": [
      "Parsing documents: 100%|██████████| 1/1 [00:06<00:00,  6.88s/it]"
     ]
    },
    {
     "name": "stdout",
     "output_type": "stream",
     "text": [
      "\u001b[2m2025-10-01 08:27:50\u001b[0m [info   \u001b[0m] \u001b[1mVisualizing parsed document of: '/home/bao/RAG_Question_Bank_and_Validation_Code/image/slide31_img6.png'\u001b[0m [\u001b[0m\u001b[1m\u001b[34magentic_doc.utils\u001b[0m]\u001b[0m (utils.py:307)\n"
     ]
    },
    {
     "name": "stderr",
     "output_type": "stream",
     "text": [
      "\n"
     ]
    },
    {
     "name": "stdout",
     "output_type": "stream",
     "text": [
      "\u001b[2m2025-10-01 08:27:51\u001b[0m [info   \u001b[0m] \u001b[1mAPI key is valid.             \u001b[0m [\u001b[0m\u001b[1m\u001b[34magentic_doc.utils\u001b[0m]\u001b[0m (utils.py:42)\n",
      "\u001b[2m2025-10-01 08:27:51\u001b[0m [info   \u001b[0m] \u001b[1mParsing 1 documents           \u001b[0m [\u001b[0m\u001b[1m\u001b[34magentic_doc.parse\u001b[0m]\u001b[0m (parse.py:280)\n"
     ]
    },
    {
     "name": "stderr",
     "output_type": "stream",
     "text": [
      "Parsing documents:   0%|          | 0/1 [00:00<?, ?it/s]"
     ]
    },
    {
     "name": "stdout",
     "output_type": "stream",
     "text": [
      "HTTP Request: POST https://api.va.landing.ai/v1/tools/agentic-document-analysis \"HTTP/1.1 200 OK\" (_client.py:1025)\n",
      "\u001b[2m2025-10-01 08:28:10\u001b[0m [info   \u001b[0m] \u001b[1mTime taken to successfully parse a document chunk: 19.44 seconds\u001b[0m [\u001b[0m\u001b[1m\u001b[34magentic_doc.parse\u001b[0m]\u001b[0m (parse.py:827)\n"
     ]
    },
    {
     "name": "stderr",
     "output_type": "stream",
     "text": [
      "Parsing documents: 100%|██████████| 1/1 [00:19<00:00, 19.44s/it]"
     ]
    },
    {
     "name": "stdout",
     "output_type": "stream",
     "text": [
      "\u001b[2m2025-10-01 08:28:10\u001b[0m [info   \u001b[0m] \u001b[1mVisualizing parsed document of: '/home/bao/RAG_Question_Bank_and_Validation_Code/image/slide30_img3.png'\u001b[0m [\u001b[0m\u001b[1m\u001b[34magentic_doc.utils\u001b[0m]\u001b[0m (utils.py:307)\n"
     ]
    },
    {
     "name": "stderr",
     "output_type": "stream",
     "text": [
      "\n"
     ]
    },
    {
     "name": "stdout",
     "output_type": "stream",
     "text": [
      "\u001b[2m2025-10-01 08:28:11\u001b[0m [info   \u001b[0m] \u001b[1mAPI key is valid.             \u001b[0m [\u001b[0m\u001b[1m\u001b[34magentic_doc.utils\u001b[0m]\u001b[0m (utils.py:42)\n",
      "\u001b[2m2025-10-01 08:28:11\u001b[0m [info   \u001b[0m] \u001b[1mParsing 1 documents           \u001b[0m [\u001b[0m\u001b[1m\u001b[34magentic_doc.parse\u001b[0m]\u001b[0m (parse.py:280)\n"
     ]
    },
    {
     "name": "stderr",
     "output_type": "stream",
     "text": [
      "Parsing documents:   0%|          | 0/1 [00:00<?, ?it/s]"
     ]
    },
    {
     "name": "stdout",
     "output_type": "stream",
     "text": [
      "HTTP Request: POST https://api.va.landing.ai/v1/tools/agentic-document-analysis \"HTTP/1.1 200 OK\" (_client.py:1025)\n",
      "\u001b[2m2025-10-01 08:28:18\u001b[0m [info   \u001b[0m] \u001b[1mTime taken to successfully parse a document chunk: 8.08 seconds\u001b[0m [\u001b[0m\u001b[1m\u001b[34magentic_doc.parse\u001b[0m]\u001b[0m (parse.py:827)\n"
     ]
    },
    {
     "name": "stderr",
     "output_type": "stream",
     "text": [
      "Parsing documents: 100%|██████████| 1/1 [00:06<00:00,  6.89s/it]"
     ]
    },
    {
     "name": "stdout",
     "output_type": "stream",
     "text": [
      "\u001b[2m2025-10-01 08:28:18\u001b[0m [info   \u001b[0m] \u001b[1mVisualizing parsed document of: '/home/bao/RAG_Question_Bank_and_Validation_Code/image/slide4_img3.png'\u001b[0m [\u001b[0m\u001b[1m\u001b[34magentic_doc.utils\u001b[0m]\u001b[0m (utils.py:307)\n"
     ]
    },
    {
     "name": "stderr",
     "output_type": "stream",
     "text": [
      "\n"
     ]
    },
    {
     "name": "stdout",
     "output_type": "stream",
     "text": [
      "\u001b[2m2025-10-01 08:28:19\u001b[0m [info   \u001b[0m] \u001b[1mAPI key is valid.             \u001b[0m [\u001b[0m\u001b[1m\u001b[34magentic_doc.utils\u001b[0m]\u001b[0m (utils.py:42)\n",
      "\u001b[2m2025-10-01 08:28:19\u001b[0m [info   \u001b[0m] \u001b[1mParsing 1 documents           \u001b[0m [\u001b[0m\u001b[1m\u001b[34magentic_doc.parse\u001b[0m]\u001b[0m (parse.py:280)\n"
     ]
    },
    {
     "name": "stderr",
     "output_type": "stream",
     "text": [
      "Parsing documents:   0%|          | 0/1 [00:00<?, ?it/s]"
     ]
    },
    {
     "name": "stdout",
     "output_type": "stream",
     "text": [
      "HTTP Request: POST https://api.va.landing.ai/v1/tools/agentic-document-analysis \"HTTP/1.1 200 OK\" (_client.py:1025)\n",
      "\u001b[2m2025-10-01 08:28:29\u001b[0m [info   \u001b[0m] \u001b[1mTime taken to successfully parse a document chunk: 9.47 seconds\u001b[0m [\u001b[0m\u001b[1m\u001b[34magentic_doc.parse\u001b[0m]\u001b[0m (parse.py:827)\n"
     ]
    },
    {
     "name": "stderr",
     "output_type": "stream",
     "text": [
      "Parsing documents: 100%|██████████| 1/1 [00:09<00:00,  9.47s/it]"
     ]
    },
    {
     "name": "stdout",
     "output_type": "stream",
     "text": [
      "\u001b[2m2025-10-01 08:28:29\u001b[0m [info   \u001b[0m] \u001b[1mVisualizing parsed document of: '/home/bao/RAG_Question_Bank_and_Validation_Code/image/slide31_img5.png'\u001b[0m [\u001b[0m\u001b[1m\u001b[34magentic_doc.utils\u001b[0m]\u001b[0m (utils.py:307)\n"
     ]
    },
    {
     "name": "stderr",
     "output_type": "stream",
     "text": [
      "\n"
     ]
    },
    {
     "name": "stdout",
     "output_type": "stream",
     "text": [
      "\u001b[2m2025-10-01 08:28:30\u001b[0m [info   \u001b[0m] \u001b[1mAPI key is valid.             \u001b[0m [\u001b[0m\u001b[1m\u001b[34magentic_doc.utils\u001b[0m]\u001b[0m (utils.py:42)\n",
      "\u001b[2m2025-10-01 08:28:30\u001b[0m [info   \u001b[0m] \u001b[1mParsing 1 documents           \u001b[0m [\u001b[0m\u001b[1m\u001b[34magentic_doc.parse\u001b[0m]\u001b[0m (parse.py:280)\n"
     ]
    },
    {
     "name": "stderr",
     "output_type": "stream",
     "text": [
      "Parsing documents:   0%|          | 0/1 [00:00<?, ?it/s]"
     ]
    },
    {
     "name": "stdout",
     "output_type": "stream",
     "text": [
      "HTTP Request: POST https://api.va.landing.ai/v1/tools/agentic-document-analysis \"HTTP/1.1 200 OK\" (_client.py:1025)\n",
      "\u001b[2m2025-10-01 08:28:40\u001b[0m [info   \u001b[0m] \u001b[1mTime taken to successfully parse a document chunk: 10.68 seconds\u001b[0m [\u001b[0m\u001b[1m\u001b[34magentic_doc.parse\u001b[0m]\u001b[0m (parse.py:827)\n"
     ]
    },
    {
     "name": "stderr",
     "output_type": "stream",
     "text": [
      "Parsing documents: 100%|██████████| 1/1 [00:10<00:00, 10.68s/it]"
     ]
    },
    {
     "name": "stdout",
     "output_type": "stream",
     "text": [
      "\u001b[2m2025-10-01 08:28:40\u001b[0m [info   \u001b[0m] \u001b[1mVisualizing parsed document of: '/home/bao/RAG_Question_Bank_and_Validation_Code/image/slide12_img1.png'\u001b[0m [\u001b[0m\u001b[1m\u001b[34magentic_doc.utils\u001b[0m]\u001b[0m (utils.py:307)\n"
     ]
    },
    {
     "name": "stderr",
     "output_type": "stream",
     "text": [
      "\n"
     ]
    },
    {
     "name": "stdout",
     "output_type": "stream",
     "text": [
      "\u001b[2m2025-10-01 08:28:42\u001b[0m [info   \u001b[0m] \u001b[1mAPI key is valid.             \u001b[0m [\u001b[0m\u001b[1m\u001b[34magentic_doc.utils\u001b[0m]\u001b[0m (utils.py:42)\n",
      "\u001b[2m2025-10-01 08:28:42\u001b[0m [info   \u001b[0m] \u001b[1mParsing 1 documents           \u001b[0m [\u001b[0m\u001b[1m\u001b[34magentic_doc.parse\u001b[0m]\u001b[0m (parse.py:280)\n"
     ]
    },
    {
     "name": "stderr",
     "output_type": "stream",
     "text": [
      "Parsing documents:   0%|          | 0/1 [00:00<?, ?it/s]"
     ]
    },
    {
     "name": "stdout",
     "output_type": "stream",
     "text": [
      "HTTP Request: POST https://api.va.landing.ai/v1/tools/agentic-document-analysis \"HTTP/1.1 200 OK\" (_client.py:1025)\n",
      "\u001b[2m2025-10-01 08:28:55\u001b[0m [info   \u001b[0m] \u001b[1mTime taken to successfully parse a document chunk: 14.40 seconds\u001b[0m [\u001b[0m\u001b[1m\u001b[34magentic_doc.parse\u001b[0m]\u001b[0m (parse.py:827)\n"
     ]
    },
    {
     "name": "stderr",
     "output_type": "stream",
     "text": [
      "Parsing documents: 100%|██████████| 1/1 [00:13<00:00, 13.19s/it]"
     ]
    },
    {
     "name": "stdout",
     "output_type": "stream",
     "text": [
      "\u001b[2m2025-10-01 08:28:55\u001b[0m [info   \u001b[0m] \u001b[1mVisualizing parsed document of: '/home/bao/RAG_Question_Bank_and_Validation_Code/image/slide27_img1.png'\u001b[0m [\u001b[0m\u001b[1m\u001b[34magentic_doc.utils\u001b[0m]\u001b[0m (utils.py:307)\n"
     ]
    },
    {
     "name": "stderr",
     "output_type": "stream",
     "text": [
      "\n"
     ]
    },
    {
     "name": "stdout",
     "output_type": "stream",
     "text": [
      "\u001b[2m2025-10-01 08:28:56\u001b[0m [info   \u001b[0m] \u001b[1mAPI key is valid.             \u001b[0m [\u001b[0m\u001b[1m\u001b[34magentic_doc.utils\u001b[0m]\u001b[0m (utils.py:42)\n",
      "\u001b[2m2025-10-01 08:28:56\u001b[0m [info   \u001b[0m] \u001b[1mParsing 1 documents           \u001b[0m [\u001b[0m\u001b[1m\u001b[34magentic_doc.parse\u001b[0m]\u001b[0m (parse.py:280)\n"
     ]
    },
    {
     "name": "stderr",
     "output_type": "stream",
     "text": [
      "Parsing documents:   0%|          | 0/1 [00:00<?, ?it/s]"
     ]
    },
    {
     "name": "stdout",
     "output_type": "stream",
     "text": [
      "HTTP Request: POST https://api.va.landing.ai/v1/tools/agentic-document-analysis \"HTTP/1.1 200 OK\" (_client.py:1025)\n",
      "\u001b[2m2025-10-01 08:29:05\u001b[0m [info   \u001b[0m] \u001b[1mTime taken to successfully parse a document chunk: 9.18 seconds\u001b[0m [\u001b[0m\u001b[1m\u001b[34magentic_doc.parse\u001b[0m]\u001b[0m (parse.py:827)\n"
     ]
    },
    {
     "name": "stderr",
     "output_type": "stream",
     "text": [
      "Parsing documents: 100%|██████████| 1/1 [00:09<00:00,  9.18s/it]"
     ]
    },
    {
     "name": "stdout",
     "output_type": "stream",
     "text": [
      "\u001b[2m2025-10-01 08:29:05\u001b[0m [info   \u001b[0m] \u001b[1mVisualizing parsed document of: '/home/bao/RAG_Question_Bank_and_Validation_Code/image/slide7_img1.png'\u001b[0m [\u001b[0m\u001b[1m\u001b[34magentic_doc.utils\u001b[0m]\u001b[0m (utils.py:307)\n"
     ]
    },
    {
     "name": "stderr",
     "output_type": "stream",
     "text": [
      "\n"
     ]
    },
    {
     "name": "stdout",
     "output_type": "stream",
     "text": [
      "\u001b[2m2025-10-01 08:29:06\u001b[0m [info   \u001b[0m] \u001b[1mAPI key is valid.             \u001b[0m [\u001b[0m\u001b[1m\u001b[34magentic_doc.utils\u001b[0m]\u001b[0m (utils.py:42)\n",
      "\u001b[2m2025-10-01 08:29:06\u001b[0m [info   \u001b[0m] \u001b[1mParsing 1 documents           \u001b[0m [\u001b[0m\u001b[1m\u001b[34magentic_doc.parse\u001b[0m]\u001b[0m (parse.py:280)\n"
     ]
    },
    {
     "name": "stderr",
     "output_type": "stream",
     "text": [
      "Parsing documents:   0%|          | 0/1 [00:00<?, ?it/s]"
     ]
    },
    {
     "name": "stdout",
     "output_type": "stream",
     "text": [
      "HTTP Request: POST https://api.va.landing.ai/v1/tools/agentic-document-analysis \"HTTP/1.1 200 OK\" (_client.py:1025)\n",
      "\u001b[2m2025-10-01 08:29:15\u001b[0m [info   \u001b[0m] \u001b[1mTime taken to successfully parse a document chunk: 9.45 seconds\u001b[0m [\u001b[0m\u001b[1m\u001b[34magentic_doc.parse\u001b[0m]\u001b[0m (parse.py:827)\n"
     ]
    },
    {
     "name": "stderr",
     "output_type": "stream",
     "text": [
      "Parsing documents: 100%|██████████| 1/1 [00:09<00:00,  9.45s/it]"
     ]
    },
    {
     "name": "stdout",
     "output_type": "stream",
     "text": [
      "\u001b[2m2025-10-01 08:29:15\u001b[0m [info   \u001b[0m] \u001b[1mVisualizing parsed document of: '/home/bao/RAG_Question_Bank_and_Validation_Code/image/slide8_img2.png'\u001b[0m [\u001b[0m\u001b[1m\u001b[34magentic_doc.utils\u001b[0m]\u001b[0m (utils.py:307)\n"
     ]
    },
    {
     "name": "stderr",
     "output_type": "stream",
     "text": [
      "\n"
     ]
    },
    {
     "name": "stdout",
     "output_type": "stream",
     "text": [
      "\u001b[2m2025-10-01 08:29:16\u001b[0m [info   \u001b[0m] \u001b[1mAPI key is valid.             \u001b[0m [\u001b[0m\u001b[1m\u001b[34magentic_doc.utils\u001b[0m]\u001b[0m (utils.py:42)\n",
      "\u001b[2m2025-10-01 08:29:16\u001b[0m [info   \u001b[0m] \u001b[1mParsing 1 documents           \u001b[0m [\u001b[0m\u001b[1m\u001b[34magentic_doc.parse\u001b[0m]\u001b[0m (parse.py:280)\n"
     ]
    },
    {
     "name": "stderr",
     "output_type": "stream",
     "text": [
      "Parsing documents:   0%|          | 0/1 [00:00<?, ?it/s]"
     ]
    },
    {
     "name": "stdout",
     "output_type": "stream",
     "text": [
      "HTTP Request: POST https://api.va.landing.ai/v1/tools/agentic-document-analysis \"HTTP/1.1 200 OK\" (_client.py:1025)\n",
      "\u001b[2m2025-10-01 08:29:23\u001b[0m [info   \u001b[0m] \u001b[1mTime taken to successfully parse a document chunk: 7.29 seconds\u001b[0m [\u001b[0m\u001b[1m\u001b[34magentic_doc.parse\u001b[0m]\u001b[0m (parse.py:827)\n"
     ]
    },
    {
     "name": "stderr",
     "output_type": "stream",
     "text": [
      "Parsing documents: 100%|██████████| 1/1 [00:06<00:00,  6.10s/it]"
     ]
    },
    {
     "name": "stdout",
     "output_type": "stream",
     "text": [
      "\u001b[2m2025-10-01 08:29:23\u001b[0m [info   \u001b[0m] \u001b[1mVisualizing parsed document of: '/home/bao/RAG_Question_Bank_and_Validation_Code/image/slide6_img2.png'\u001b[0m [\u001b[0m\u001b[1m\u001b[34magentic_doc.utils\u001b[0m]\u001b[0m (utils.py:307)\n"
     ]
    },
    {
     "name": "stderr",
     "output_type": "stream",
     "text": [
      "\n"
     ]
    },
    {
     "name": "stdout",
     "output_type": "stream",
     "text": [
      "\u001b[2m2025-10-01 08:29:24\u001b[0m [info   \u001b[0m] \u001b[1mAPI key is valid.             \u001b[0m [\u001b[0m\u001b[1m\u001b[34magentic_doc.utils\u001b[0m]\u001b[0m (utils.py:42)\n",
      "\u001b[2m2025-10-01 08:29:24\u001b[0m [info   \u001b[0m] \u001b[1mParsing 1 documents           \u001b[0m [\u001b[0m\u001b[1m\u001b[34magentic_doc.parse\u001b[0m]\u001b[0m (parse.py:280)\n"
     ]
    },
    {
     "name": "stderr",
     "output_type": "stream",
     "text": [
      "Parsing documents:   0%|          | 0/1 [00:00<?, ?it/s]"
     ]
    },
    {
     "name": "stdout",
     "output_type": "stream",
     "text": [
      "HTTP Request: POST https://api.va.landing.ai/v1/tools/agentic-document-analysis \"HTTP/1.1 200 OK\" (_client.py:1025)\n",
      "\u001b[2m2025-10-01 08:29:31\u001b[0m [info   \u001b[0m] \u001b[1mTime taken to successfully parse a document chunk: 7.15 seconds\u001b[0m [\u001b[0m\u001b[1m\u001b[34magentic_doc.parse\u001b[0m]\u001b[0m (parse.py:827)\n"
     ]
    },
    {
     "name": "stderr",
     "output_type": "stream",
     "text": [
      "Parsing documents: 100%|██████████| 1/1 [00:07<00:00,  7.14s/it]"
     ]
    },
    {
     "name": "stdout",
     "output_type": "stream",
     "text": [
      "\u001b[2m2025-10-01 08:29:31\u001b[0m [info   \u001b[0m] \u001b[1mVisualizing parsed document of: '/home/bao/RAG_Question_Bank_and_Validation_Code/image/slide9_img5.png'\u001b[0m [\u001b[0m\u001b[1m\u001b[34magentic_doc.utils\u001b[0m]\u001b[0m (utils.py:307)\n"
     ]
    },
    {
     "name": "stderr",
     "output_type": "stream",
     "text": [
      "\n"
     ]
    },
    {
     "name": "stdout",
     "output_type": "stream",
     "text": [
      "\u001b[2m2025-10-01 08:29:32\u001b[0m [info   \u001b[0m] \u001b[1mAPI key is valid.             \u001b[0m [\u001b[0m\u001b[1m\u001b[34magentic_doc.utils\u001b[0m]\u001b[0m (utils.py:42)\n",
      "\u001b[2m2025-10-01 08:29:32\u001b[0m [info   \u001b[0m] \u001b[1mParsing 1 documents           \u001b[0m [\u001b[0m\u001b[1m\u001b[34magentic_doc.parse\u001b[0m]\u001b[0m (parse.py:280)\n"
     ]
    },
    {
     "name": "stderr",
     "output_type": "stream",
     "text": [
      "Parsing documents:   0%|          | 0/1 [00:00<?, ?it/s]"
     ]
    },
    {
     "name": "stdout",
     "output_type": "stream",
     "text": [
      "HTTP Request: POST https://api.va.landing.ai/v1/tools/agentic-document-analysis \"HTTP/1.1 200 OK\" (_client.py:1025)\n",
      "\u001b[2m2025-10-01 08:29:44\u001b[0m [info   \u001b[0m] \u001b[1mTime taken to successfully parse a document chunk: 12.08 seconds\u001b[0m [\u001b[0m\u001b[1m\u001b[34magentic_doc.parse\u001b[0m]\u001b[0m (parse.py:827)\n"
     ]
    },
    {
     "name": "stderr",
     "output_type": "stream",
     "text": [
      "Parsing documents: 100%|██████████| 1/1 [00:12<00:00, 12.08s/it]"
     ]
    },
    {
     "name": "stdout",
     "output_type": "stream",
     "text": [
      "\u001b[2m2025-10-01 08:29:44\u001b[0m [info   \u001b[0m] \u001b[1mVisualizing parsed document of: '/home/bao/RAG_Question_Bank_and_Validation_Code/image/slide4_img2.png'\u001b[0m [\u001b[0m\u001b[1m\u001b[34magentic_doc.utils\u001b[0m]\u001b[0m (utils.py:307)\n"
     ]
    },
    {
     "name": "stderr",
     "output_type": "stream",
     "text": [
      "\n"
     ]
    },
    {
     "name": "stdout",
     "output_type": "stream",
     "text": [
      "\u001b[2m2025-10-01 08:29:45\u001b[0m [info   \u001b[0m] \u001b[1mAPI key is valid.             \u001b[0m [\u001b[0m\u001b[1m\u001b[34magentic_doc.utils\u001b[0m]\u001b[0m (utils.py:42)\n",
      "\u001b[2m2025-10-01 08:29:45\u001b[0m [info   \u001b[0m] \u001b[1mParsing 1 documents           \u001b[0m [\u001b[0m\u001b[1m\u001b[34magentic_doc.parse\u001b[0m]\u001b[0m (parse.py:280)\n"
     ]
    },
    {
     "name": "stderr",
     "output_type": "stream",
     "text": [
      "Parsing documents:   0%|          | 0/1 [00:00<?, ?it/s]"
     ]
    },
    {
     "name": "stdout",
     "output_type": "stream",
     "text": [
      "HTTP Request: POST https://api.va.landing.ai/v1/tools/agentic-document-analysis \"HTTP/1.1 200 OK\" (_client.py:1025)\n",
      "\u001b[2m2025-10-01 08:29:52\u001b[0m [info   \u001b[0m] \u001b[1mTime taken to successfully parse a document chunk: 8.05 seconds\u001b[0m [\u001b[0m\u001b[1m\u001b[34magentic_doc.parse\u001b[0m]\u001b[0m (parse.py:827)\n"
     ]
    },
    {
     "name": "stderr",
     "output_type": "stream",
     "text": [
      "Parsing documents: 100%|██████████| 1/1 [00:06<00:00,  6.85s/it]"
     ]
    },
    {
     "name": "stdout",
     "output_type": "stream",
     "text": [
      "\u001b[2m2025-10-01 08:29:52\u001b[0m [info   \u001b[0m] \u001b[1mVisualizing parsed document of: '/home/bao/RAG_Question_Bank_and_Validation_Code/image/slide31_img4.png'\u001b[0m [\u001b[0m\u001b[1m\u001b[34magentic_doc.utils\u001b[0m]\u001b[0m (utils.py:307)\n"
     ]
    },
    {
     "name": "stderr",
     "output_type": "stream",
     "text": [
      "\n"
     ]
    },
    {
     "name": "stdout",
     "output_type": "stream",
     "text": [
      "\u001b[2m2025-10-01 08:29:53\u001b[0m [info   \u001b[0m] \u001b[1mAPI key is valid.             \u001b[0m [\u001b[0m\u001b[1m\u001b[34magentic_doc.utils\u001b[0m]\u001b[0m (utils.py:42)\n",
      "\u001b[2m2025-10-01 08:29:53\u001b[0m [info   \u001b[0m] \u001b[1mParsing 1 documents           \u001b[0m [\u001b[0m\u001b[1m\u001b[34magentic_doc.parse\u001b[0m]\u001b[0m (parse.py:280)\n"
     ]
    },
    {
     "name": "stderr",
     "output_type": "stream",
     "text": [
      "Parsing documents:   0%|          | 0/1 [00:00<?, ?it/s]"
     ]
    },
    {
     "name": "stdout",
     "output_type": "stream",
     "text": [
      "HTTP Request: POST https://api.va.landing.ai/v1/tools/agentic-document-analysis \"HTTP/1.1 200 OK\" (_client.py:1025)\n",
      "\u001b[2m2025-10-01 08:30:01\u001b[0m [info   \u001b[0m] \u001b[1mTime taken to successfully parse a document chunk: 7.64 seconds\u001b[0m [\u001b[0m\u001b[1m\u001b[34magentic_doc.parse\u001b[0m]\u001b[0m (parse.py:827)\n"
     ]
    },
    {
     "name": "stderr",
     "output_type": "stream",
     "text": [
      "Parsing documents: 100%|██████████| 1/1 [00:07<00:00,  7.64s/it]"
     ]
    },
    {
     "name": "stdout",
     "output_type": "stream",
     "text": [
      "\u001b[2m2025-10-01 08:30:01\u001b[0m [info   \u001b[0m] \u001b[1mVisualizing parsed document of: '/home/bao/RAG_Question_Bank_and_Validation_Code/image/slide42_img4.png'\u001b[0m [\u001b[0m\u001b[1m\u001b[34magentic_doc.utils\u001b[0m]\u001b[0m (utils.py:307)\n"
     ]
    },
    {
     "name": "stderr",
     "output_type": "stream",
     "text": [
      "\n"
     ]
    },
    {
     "name": "stdout",
     "output_type": "stream",
     "text": [
      "\u001b[2m2025-10-01 08:30:01\u001b[0m [info   \u001b[0m] \u001b[1mAPI key is valid.             \u001b[0m [\u001b[0m\u001b[1m\u001b[34magentic_doc.utils\u001b[0m]\u001b[0m (utils.py:42)\n",
      "\u001b[2m2025-10-01 08:30:01\u001b[0m [info   \u001b[0m] \u001b[1mParsing 1 documents           \u001b[0m [\u001b[0m\u001b[1m\u001b[34magentic_doc.parse\u001b[0m]\u001b[0m (parse.py:280)\n"
     ]
    },
    {
     "name": "stderr",
     "output_type": "stream",
     "text": [
      "Parsing documents:   0%|          | 0/1 [00:00<?, ?it/s]"
     ]
    },
    {
     "name": "stdout",
     "output_type": "stream",
     "text": [
      "HTTP Request: POST https://api.va.landing.ai/v1/tools/agentic-document-analysis \"HTTP/1.1 200 OK\" (_client.py:1025)\n",
      "\u001b[2m2025-10-01 08:30:10\u001b[0m [info   \u001b[0m] \u001b[1mTime taken to successfully parse a document chunk: 9.01 seconds\u001b[0m [\u001b[0m\u001b[1m\u001b[34magentic_doc.parse\u001b[0m]\u001b[0m (parse.py:827)\n"
     ]
    },
    {
     "name": "stderr",
     "output_type": "stream",
     "text": [
      "Parsing documents: 100%|██████████| 1/1 [00:09<00:00,  9.01s/it]"
     ]
    },
    {
     "name": "stdout",
     "output_type": "stream",
     "text": [
      "\u001b[2m2025-10-01 08:30:10\u001b[0m [info   \u001b[0m] \u001b[1mVisualizing parsed document of: '/home/bao/RAG_Question_Bank_and_Validation_Code/image/slide25_img4.png'\u001b[0m [\u001b[0m\u001b[1m\u001b[34magentic_doc.utils\u001b[0m]\u001b[0m (utils.py:307)\n"
     ]
    },
    {
     "name": "stderr",
     "output_type": "stream",
     "text": [
      "\n"
     ]
    },
    {
     "name": "stdout",
     "output_type": "stream",
     "text": [
      "\u001b[2m2025-10-01 08:30:12\u001b[0m [info   \u001b[0m] \u001b[1mAPI key is valid.             \u001b[0m [\u001b[0m\u001b[1m\u001b[34magentic_doc.utils\u001b[0m]\u001b[0m (utils.py:42)\n",
      "\u001b[2m2025-10-01 08:30:12\u001b[0m [info   \u001b[0m] \u001b[1mParsing 1 documents           \u001b[0m [\u001b[0m\u001b[1m\u001b[34magentic_doc.parse\u001b[0m]\u001b[0m (parse.py:280)\n"
     ]
    },
    {
     "name": "stderr",
     "output_type": "stream",
     "text": [
      "Parsing documents:   0%|          | 0/1 [00:00<?, ?it/s]"
     ]
    },
    {
     "name": "stdout",
     "output_type": "stream",
     "text": [
      "HTTP Request: POST https://api.va.landing.ai/v1/tools/agentic-document-analysis \"HTTP/1.1 200 OK\" (_client.py:1025)\n",
      "\u001b[2m2025-10-01 08:30:19\u001b[0m [info   \u001b[0m] \u001b[1mTime taken to successfully parse a document chunk: 8.40 seconds\u001b[0m [\u001b[0m\u001b[1m\u001b[34magentic_doc.parse\u001b[0m]\u001b[0m (parse.py:827)\n"
     ]
    },
    {
     "name": "stderr",
     "output_type": "stream",
     "text": [
      "Parsing documents: 100%|██████████| 1/1 [00:07<00:00,  7.20s/it]"
     ]
    },
    {
     "name": "stdout",
     "output_type": "stream",
     "text": [
      "\u001b[2m2025-10-01 08:30:19\u001b[0m [info   \u001b[0m] \u001b[1mVisualizing parsed document of: '/home/bao/RAG_Question_Bank_and_Validation_Code/image/slide25_img5.png'\u001b[0m [\u001b[0m\u001b[1m\u001b[34magentic_doc.utils\u001b[0m]\u001b[0m (utils.py:307)\n"
     ]
    },
    {
     "name": "stderr",
     "output_type": "stream",
     "text": [
      "\n"
     ]
    },
    {
     "name": "stdout",
     "output_type": "stream",
     "text": [
      "\u001b[2m2025-10-01 08:30:20\u001b[0m [info   \u001b[0m] \u001b[1mAPI key is valid.             \u001b[0m [\u001b[0m\u001b[1m\u001b[34magentic_doc.utils\u001b[0m]\u001b[0m (utils.py:42)\n",
      "\u001b[2m2025-10-01 08:30:20\u001b[0m [info   \u001b[0m] \u001b[1mParsing 1 documents           \u001b[0m [\u001b[0m\u001b[1m\u001b[34magentic_doc.parse\u001b[0m]\u001b[0m (parse.py:280)\n"
     ]
    },
    {
     "name": "stderr",
     "output_type": "stream",
     "text": [
      "Parsing documents:   0%|          | 0/1 [00:00<?, ?it/s]"
     ]
    },
    {
     "name": "stdout",
     "output_type": "stream",
     "text": [
      "HTTP Request: POST https://api.va.landing.ai/v1/tools/agentic-document-analysis \"HTTP/1.1 200 OK\" (_client.py:1025)\n",
      "\u001b[2m2025-10-01 08:30:28\u001b[0m [info   \u001b[0m] \u001b[1mTime taken to successfully parse a document chunk: 8.38 seconds\u001b[0m [\u001b[0m\u001b[1m\u001b[34magentic_doc.parse\u001b[0m]\u001b[0m (parse.py:827)\n"
     ]
    },
    {
     "name": "stderr",
     "output_type": "stream",
     "text": [
      "Parsing documents: 100%|██████████| 1/1 [00:08<00:00,  8.38s/it]"
     ]
    },
    {
     "name": "stdout",
     "output_type": "stream",
     "text": [
      "\u001b[2m2025-10-01 08:30:28\u001b[0m [info   \u001b[0m] \u001b[1mVisualizing parsed document of: '/home/bao/RAG_Question_Bank_and_Validation_Code/image/slide19_img1.png'\u001b[0m [\u001b[0m\u001b[1m\u001b[34magentic_doc.utils\u001b[0m]\u001b[0m (utils.py:307)\n"
     ]
    },
    {
     "name": "stderr",
     "output_type": "stream",
     "text": [
      "\n"
     ]
    },
    {
     "name": "stdout",
     "output_type": "stream",
     "text": [
      "\u001b[2m2025-10-01 08:30:29\u001b[0m [info   \u001b[0m] \u001b[1mAPI key is valid.             \u001b[0m [\u001b[0m\u001b[1m\u001b[34magentic_doc.utils\u001b[0m]\u001b[0m (utils.py:42)\n",
      "\u001b[2m2025-10-01 08:30:29\u001b[0m [info   \u001b[0m] \u001b[1mParsing 1 documents           \u001b[0m [\u001b[0m\u001b[1m\u001b[34magentic_doc.parse\u001b[0m]\u001b[0m (parse.py:280)\n"
     ]
    },
    {
     "name": "stderr",
     "output_type": "stream",
     "text": [
      "Parsing documents:   0%|          | 0/1 [00:00<?, ?it/s]"
     ]
    },
    {
     "name": "stdout",
     "output_type": "stream",
     "text": [
      "HTTP Request: POST https://api.va.landing.ai/v1/tools/agentic-document-analysis \"HTTP/1.1 200 OK\" (_client.py:1025)\n",
      "\u001b[2m2025-10-01 08:30:41\u001b[0m [info   \u001b[0m] \u001b[1mTime taken to successfully parse a document chunk: 11.61 seconds\u001b[0m [\u001b[0m\u001b[1m\u001b[34magentic_doc.parse\u001b[0m]\u001b[0m (parse.py:827)\n"
     ]
    },
    {
     "name": "stderr",
     "output_type": "stream",
     "text": [
      "Parsing documents: 100%|██████████| 1/1 [00:11<00:00, 11.61s/it]"
     ]
    },
    {
     "name": "stdout",
     "output_type": "stream",
     "text": [
      "\u001b[2m2025-10-01 08:30:41\u001b[0m [info   \u001b[0m] \u001b[1mVisualizing parsed document of: '/home/bao/RAG_Question_Bank_and_Validation_Code/image/slide31_img2.png'\u001b[0m [\u001b[0m\u001b[1m\u001b[34magentic_doc.utils\u001b[0m]\u001b[0m (utils.py:307)\n"
     ]
    },
    {
     "name": "stderr",
     "output_type": "stream",
     "text": [
      "\n"
     ]
    },
    {
     "name": "stdout",
     "output_type": "stream",
     "text": [
      "\u001b[2m2025-10-01 08:30:42\u001b[0m [info   \u001b[0m] \u001b[1mAPI key is valid.             \u001b[0m [\u001b[0m\u001b[1m\u001b[34magentic_doc.utils\u001b[0m]\u001b[0m (utils.py:42)\n",
      "\u001b[2m2025-10-01 08:30:42\u001b[0m [info   \u001b[0m] \u001b[1mParsing 1 documents           \u001b[0m [\u001b[0m\u001b[1m\u001b[34magentic_doc.parse\u001b[0m]\u001b[0m (parse.py:280)\n"
     ]
    },
    {
     "name": "stderr",
     "output_type": "stream",
     "text": [
      "Parsing documents:   0%|          | 0/1 [00:00<?, ?it/s]"
     ]
    },
    {
     "name": "stdout",
     "output_type": "stream",
     "text": [
      "HTTP Request: POST https://api.va.landing.ai/v1/tools/agentic-document-analysis \"HTTP/1.1 200 OK\" (_client.py:1025)\n",
      "\u001b[2m2025-10-01 08:30:52\u001b[0m [info   \u001b[0m] \u001b[1mTime taken to successfully parse a document chunk: 10.97 seconds\u001b[0m [\u001b[0m\u001b[1m\u001b[34magentic_doc.parse\u001b[0m]\u001b[0m (parse.py:827)\n"
     ]
    },
    {
     "name": "stderr",
     "output_type": "stream",
     "text": [
      "Parsing documents: 100%|██████████| 1/1 [00:09<00:00,  9.75s/it]"
     ]
    },
    {
     "name": "stdout",
     "output_type": "stream",
     "text": [
      "\u001b[2m2025-10-01 08:30:52\u001b[0m [info   \u001b[0m] \u001b[1mVisualizing parsed document of: '/home/bao/RAG_Question_Bank_and_Validation_Code/image/slide43_img2.png'\u001b[0m [\u001b[0m\u001b[1m\u001b[34magentic_doc.utils\u001b[0m]\u001b[0m (utils.py:307)\n"
     ]
    },
    {
     "name": "stderr",
     "output_type": "stream",
     "text": [
      "\n"
     ]
    },
    {
     "name": "stdout",
     "output_type": "stream",
     "text": [
      "\u001b[2m2025-10-01 08:30:53\u001b[0m [info   \u001b[0m] \u001b[1mAPI key is valid.             \u001b[0m [\u001b[0m\u001b[1m\u001b[34magentic_doc.utils\u001b[0m]\u001b[0m (utils.py:42)\n",
      "\u001b[2m2025-10-01 08:30:53\u001b[0m [info   \u001b[0m] \u001b[1mParsing 1 documents           \u001b[0m [\u001b[0m\u001b[1m\u001b[34magentic_doc.parse\u001b[0m]\u001b[0m (parse.py:280)\n"
     ]
    },
    {
     "name": "stderr",
     "output_type": "stream",
     "text": [
      "Parsing documents:   0%|          | 0/1 [00:00<?, ?it/s]"
     ]
    },
    {
     "name": "stdout",
     "output_type": "stream",
     "text": [
      "HTTP Request: POST https://api.va.landing.ai/v1/tools/agentic-document-analysis \"HTTP/1.1 200 OK\" (_client.py:1025)\n",
      "\u001b[2m2025-10-01 08:31:08\u001b[0m [info   \u001b[0m] \u001b[1mTime taken to successfully parse a document chunk: 15.05 seconds\u001b[0m [\u001b[0m\u001b[1m\u001b[34magentic_doc.parse\u001b[0m]\u001b[0m (parse.py:827)\n"
     ]
    },
    {
     "name": "stderr",
     "output_type": "stream",
     "text": [
      "Parsing documents: 100%|██████████| 1/1 [00:15<00:00, 15.05s/it]"
     ]
    },
    {
     "name": "stdout",
     "output_type": "stream",
     "text": [
      "\u001b[2m2025-10-01 08:31:08\u001b[0m [info   \u001b[0m] \u001b[1mVisualizing parsed document of: '/home/bao/RAG_Question_Bank_and_Validation_Code/image/slide38_img8.png'\u001b[0m [\u001b[0m\u001b[1m\u001b[34magentic_doc.utils\u001b[0m]\u001b[0m (utils.py:307)\n"
     ]
    },
    {
     "name": "stderr",
     "output_type": "stream",
     "text": [
      "\n"
     ]
    },
    {
     "name": "stdout",
     "output_type": "stream",
     "text": [
      "\u001b[2m2025-10-01 08:31:09\u001b[0m [info   \u001b[0m] \u001b[1mAPI key is valid.             \u001b[0m [\u001b[0m\u001b[1m\u001b[34magentic_doc.utils\u001b[0m]\u001b[0m (utils.py:42)\n",
      "\u001b[2m2025-10-01 08:31:09\u001b[0m [info   \u001b[0m] \u001b[1mParsing 1 documents           \u001b[0m [\u001b[0m\u001b[1m\u001b[34magentic_doc.parse\u001b[0m]\u001b[0m (parse.py:280)\n"
     ]
    },
    {
     "name": "stderr",
     "output_type": "stream",
     "text": [
      "Parsing documents:   0%|          | 0/1 [00:00<?, ?it/s]"
     ]
    },
    {
     "name": "stdout",
     "output_type": "stream",
     "text": [
      "HTTP Request: POST https://api.va.landing.ai/v1/tools/agentic-document-analysis \"HTTP/1.1 200 OK\" (_client.py:1025)\n",
      "\u001b[2m2025-10-01 08:31:19\u001b[0m [info   \u001b[0m] \u001b[1mTime taken to successfully parse a document chunk: 9.73 seconds\u001b[0m [\u001b[0m\u001b[1m\u001b[34magentic_doc.parse\u001b[0m]\u001b[0m (parse.py:827)\n"
     ]
    },
    {
     "name": "stderr",
     "output_type": "stream",
     "text": [
      "Parsing documents: 100%|██████████| 1/1 [00:09<00:00,  9.73s/it]"
     ]
    },
    {
     "name": "stdout",
     "output_type": "stream",
     "text": [
      "\u001b[2m2025-10-01 08:31:19\u001b[0m [info   \u001b[0m] \u001b[1mVisualizing parsed document of: '/home/bao/RAG_Question_Bank_and_Validation_Code/image/slide19_img2.png'\u001b[0m [\u001b[0m\u001b[1m\u001b[34magentic_doc.utils\u001b[0m]\u001b[0m (utils.py:307)\n"
     ]
    },
    {
     "name": "stderr",
     "output_type": "stream",
     "text": [
      "\n"
     ]
    },
    {
     "name": "stdout",
     "output_type": "stream",
     "text": [
      "\u001b[2m2025-10-01 08:31:20\u001b[0m [info   \u001b[0m] \u001b[1mAPI key is valid.             \u001b[0m [\u001b[0m\u001b[1m\u001b[34magentic_doc.utils\u001b[0m]\u001b[0m (utils.py:42)\n",
      "\u001b[2m2025-10-01 08:31:20\u001b[0m [info   \u001b[0m] \u001b[1mParsing 1 documents           \u001b[0m [\u001b[0m\u001b[1m\u001b[34magentic_doc.parse\u001b[0m]\u001b[0m (parse.py:280)\n"
     ]
    },
    {
     "name": "stderr",
     "output_type": "stream",
     "text": [
      "Parsing documents:   0%|          | 0/1 [00:00<?, ?it/s]"
     ]
    },
    {
     "name": "stdout",
     "output_type": "stream",
     "text": [
      "HTTP Request: POST https://api.va.landing.ai/v1/tools/agentic-document-analysis \"HTTP/1.1 200 OK\" (_client.py:1025)\n",
      "\u001b[2m2025-10-01 08:31:36\u001b[0m [info   \u001b[0m] \u001b[1mTime taken to successfully parse a document chunk: 17.44 seconds\u001b[0m [\u001b[0m\u001b[1m\u001b[34magentic_doc.parse\u001b[0m]\u001b[0m (parse.py:827)\n"
     ]
    },
    {
     "name": "stderr",
     "output_type": "stream",
     "text": [
      "Parsing documents: 100%|██████████| 1/1 [00:16<00:00, 16.32s/it]"
     ]
    },
    {
     "name": "stdout",
     "output_type": "stream",
     "text": [
      "\u001b[2m2025-10-01 08:31:36\u001b[0m [info   \u001b[0m] \u001b[1mVisualizing parsed document of: '/home/bao/RAG_Question_Bank_and_Validation_Code/image/slide15_img1.png'\u001b[0m [\u001b[0m\u001b[1m\u001b[34magentic_doc.utils\u001b[0m]\u001b[0m (utils.py:307)\n"
     ]
    },
    {
     "name": "stderr",
     "output_type": "stream",
     "text": [
      "\n"
     ]
    },
    {
     "name": "stdout",
     "output_type": "stream",
     "text": [
      "\u001b[2m2025-10-01 08:31:37\u001b[0m [info   \u001b[0m] \u001b[1mAPI key is valid.             \u001b[0m [\u001b[0m\u001b[1m\u001b[34magentic_doc.utils\u001b[0m]\u001b[0m (utils.py:42)\n",
      "\u001b[2m2025-10-01 08:31:37\u001b[0m [info   \u001b[0m] \u001b[1mParsing 1 documents           \u001b[0m [\u001b[0m\u001b[1m\u001b[34magentic_doc.parse\u001b[0m]\u001b[0m (parse.py:280)\n"
     ]
    },
    {
     "name": "stderr",
     "output_type": "stream",
     "text": [
      "Parsing documents:   0%|          | 0/1 [00:00<?, ?it/s]"
     ]
    },
    {
     "name": "stdout",
     "output_type": "stream",
     "text": [
      "HTTP Request: POST https://api.va.landing.ai/v1/tools/agentic-document-analysis \"HTTP/1.1 200 OK\" (_client.py:1025)\n",
      "\u001b[2m2025-10-01 08:31:47\u001b[0m [info   \u001b[0m] \u001b[1mTime taken to successfully parse a document chunk: 9.83 seconds\u001b[0m [\u001b[0m\u001b[1m\u001b[34magentic_doc.parse\u001b[0m]\u001b[0m (parse.py:827)\n"
     ]
    },
    {
     "name": "stderr",
     "output_type": "stream",
     "text": [
      "Parsing documents: 100%|██████████| 1/1 [00:09<00:00,  9.83s/it]"
     ]
    },
    {
     "name": "stdout",
     "output_type": "stream",
     "text": [
      "\u001b[2m2025-10-01 08:31:47\u001b[0m [info   \u001b[0m] \u001b[1mVisualizing parsed document of: '/home/bao/RAG_Question_Bank_and_Validation_Code/image/slide8_img1.png'\u001b[0m [\u001b[0m\u001b[1m\u001b[34magentic_doc.utils\u001b[0m]\u001b[0m (utils.py:307)\n"
     ]
    },
    {
     "name": "stderr",
     "output_type": "stream",
     "text": [
      "\n"
     ]
    },
    {
     "name": "stdout",
     "output_type": "stream",
     "text": [
      "\u001b[2m2025-10-01 08:31:48\u001b[0m [info   \u001b[0m] \u001b[1mAPI key is valid.             \u001b[0m [\u001b[0m\u001b[1m\u001b[34magentic_doc.utils\u001b[0m]\u001b[0m (utils.py:42)\n",
      "\u001b[2m2025-10-01 08:31:48\u001b[0m [info   \u001b[0m] \u001b[1mParsing 1 documents           \u001b[0m [\u001b[0m\u001b[1m\u001b[34magentic_doc.parse\u001b[0m]\u001b[0m (parse.py:280)\n"
     ]
    },
    {
     "name": "stderr",
     "output_type": "stream",
     "text": [
      "Parsing documents:   0%|          | 0/1 [00:00<?, ?it/s]"
     ]
    },
    {
     "name": "stdout",
     "output_type": "stream",
     "text": [
      "HTTP Request: POST https://api.va.landing.ai/v1/tools/agentic-document-analysis \"HTTP/1.1 200 OK\" (_client.py:1025)\n",
      "\u001b[2m2025-10-01 08:31:55\u001b[0m [info   \u001b[0m] \u001b[1mTime taken to successfully parse a document chunk: 8.32 seconds\u001b[0m [\u001b[0m\u001b[1m\u001b[34magentic_doc.parse\u001b[0m]\u001b[0m (parse.py:827)\n"
     ]
    },
    {
     "name": "stderr",
     "output_type": "stream",
     "text": [
      "Parsing documents: 100%|██████████| 1/1 [00:07<00:00,  7.14s/it]"
     ]
    },
    {
     "name": "stdout",
     "output_type": "stream",
     "text": [
      "\u001b[2m2025-10-01 08:31:55\u001b[0m [info   \u001b[0m] \u001b[1mVisualizing parsed document of: '/home/bao/RAG_Question_Bank_and_Validation_Code/image/slide5_img1.png'\u001b[0m [\u001b[0m\u001b[1m\u001b[34magentic_doc.utils\u001b[0m]\u001b[0m (utils.py:307)\n"
     ]
    },
    {
     "name": "stderr",
     "output_type": "stream",
     "text": [
      "\n"
     ]
    },
    {
     "name": "stdout",
     "output_type": "stream",
     "text": [
      "\u001b[2m2025-10-01 08:31:56\u001b[0m [info   \u001b[0m] \u001b[1mAPI key is valid.             \u001b[0m [\u001b[0m\u001b[1m\u001b[34magentic_doc.utils\u001b[0m]\u001b[0m (utils.py:42)\n",
      "\u001b[2m2025-10-01 08:31:56\u001b[0m [info   \u001b[0m] \u001b[1mParsing 1 documents           \u001b[0m [\u001b[0m\u001b[1m\u001b[34magentic_doc.parse\u001b[0m]\u001b[0m (parse.py:280)\n"
     ]
    },
    {
     "name": "stderr",
     "output_type": "stream",
     "text": [
      "Parsing documents:   0%|          | 0/1 [00:00<?, ?it/s]"
     ]
    },
    {
     "name": "stdout",
     "output_type": "stream",
     "text": [
      "HTTP Request: POST https://api.va.landing.ai/v1/tools/agentic-document-analysis \"HTTP/1.1 200 OK\" (_client.py:1025)\n",
      "\u001b[2m2025-10-01 08:32:05\u001b[0m [info   \u001b[0m] \u001b[1mTime taken to successfully parse a document chunk: 8.24 seconds\u001b[0m [\u001b[0m\u001b[1m\u001b[34magentic_doc.parse\u001b[0m]\u001b[0m (parse.py:827)\n"
     ]
    },
    {
     "name": "stderr",
     "output_type": "stream",
     "text": [
      "Parsing documents: 100%|██████████| 1/1 [00:08<00:00,  8.24s/it]"
     ]
    },
    {
     "name": "stdout",
     "output_type": "stream",
     "text": [
      "\u001b[2m2025-10-01 08:32:05\u001b[0m [info   \u001b[0m] \u001b[1mVisualizing parsed document of: '/home/bao/RAG_Question_Bank_and_Validation_Code/image/slide9_img3.png'\u001b[0m [\u001b[0m\u001b[1m\u001b[34magentic_doc.utils\u001b[0m]\u001b[0m (utils.py:307)\n"
     ]
    },
    {
     "name": "stderr",
     "output_type": "stream",
     "text": [
      "\n"
     ]
    },
    {
     "data": {
      "text/plain": [
       "'33 images have been processed successfully!'"
      ]
     },
     "execution_count": 28,
     "metadata": {},
     "output_type": "execute_result"
    }
   ],
   "source": [
    "parse_image(folder='converted_images', output_dir=output_dir, viz_config=viz_config)"
   ]
  },
  {
   "cell_type": "code",
   "execution_count": null,
   "id": "31826be1",
   "metadata": {},
   "outputs": [],
   "source": []
  }
 ],
 "metadata": {
  "kernelspec": {
   "display_name": "base",
   "language": "python",
   "name": "python3"
  },
  "language_info": {
   "codemirror_mode": {
    "name": "ipython",
    "version": 3
   },
   "file_extension": ".py",
   "mimetype": "text/x-python",
   "name": "python",
   "nbconvert_exporter": "python",
   "pygments_lexer": "ipython3",
   "version": "3.12.2"
  }
 },
 "nbformat": 4,
 "nbformat_minor": 5
}

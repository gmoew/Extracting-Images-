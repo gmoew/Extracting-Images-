{
 "cells": [
  {
   "cell_type": "code",
   "execution_count": 37,
   "id": "744d9f45",
   "metadata": {},
   "outputs": [],
   "source": [
    "import cv2\n",
    "import json\n",
    "import numpy as np\n",
    "from IPython.display import display\n",
    "from google import genai\n",
    "from google.genai import types\n",
    "from PIL import Image\n",
    "import os\n",
    "import re"
   ]
  },
  {
   "cell_type": "code",
   "execution_count": 38,
   "id": "854fd610",
   "metadata": {},
   "outputs": [],
   "source": [
    "API_KEY = os.getenv(\"GEMINI_API_KEY\")\n",
    "OUTPUT_PATH = \"./gemini_extracted_images\"\n",
    "INPUT_FOLDER = \"./converted_images\""
   ]
  },
  {
   "cell_type": "code",
   "execution_count": null,
   "id": "543d99b8",
   "metadata": {},
   "outputs": [],
   "source": [
    "client = genai.Client(api_key=)"
   ]
  },
  {
   "cell_type": "code",
   "execution_count": 40,
   "id": "ef833550",
   "metadata": {},
   "outputs": [],
   "source": [
    "def inference(image, prompt, temp=0.5):\n",
    "    response = client.models.generate_content(\n",
    "        model=\"gemini-2.5-flash\",\n",
    "        contents=[prompt, image],\n",
    "        config=types.GenerateContentConfig(\n",
    "            temperature=temp\n",
    "        )\n",
    "    )\n",
    "\n",
    "    return response.text"
   ]
  },
  {
   "cell_type": "code",
   "execution_count": 41,
   "id": "3c37f996",
   "metadata": {},
   "outputs": [],
   "source": [
    "def read_image(filename):\n",
    "    image = cv2.imread(filename)\n",
    "    h, w = image.shape[:2]\n",
    "    return Image.fromarray(cv2.cvtColor(image, cv2.COLOR_BGR2RGB))"
   ]
  },
  {
   "cell_type": "code",
   "execution_count": 42,
   "id": "2fd6db02",
   "metadata": {},
   "outputs": [],
   "source": [
    "prompt = \"\"\"\n",
    "Please analyze the uploaded image and do the following:\n",
    "\n",
    "1. Identify and draw bounding boxes around three categories:\n",
    "\n",
    "   * **Text regions** (all paragraphs, headings, labels, and sentences)\n",
    "   * **Table regions** (structured rows/columns with certification details)\n",
    "   * **Image regions**\n",
    "\n",
    "\"\"\"\n",
    "\n",
    "output_prompt = \"Return just bounding boxes coordinates and labels: text, image, or table\"\n"
   ]
  },
  {
   "cell_type": "code",
   "execution_count": 43,
   "id": "3686f46e",
   "metadata": {},
   "outputs": [],
   "source": [
    "def clean_results(data):\n",
    "    \"\"\"\n",
    "    Extract only the JSON portion from model output\n",
    "    \"\"\"\n",
    "    results = data.strip().removeprefix(\"```json\").removesuffix(\"```\").strip()\n",
    "    try:\n",
    "        return json.loads(results)\n",
    "    except json.JSONDecodeError:\n",
    "        print(\"⚠️ JSON parse failed, returning empty list.\")\n",
    "        return []"
   ]
  },
  {
   "cell_type": "code",
   "execution_count": 44,
   "id": "7c0a371e",
   "metadata": {},
   "outputs": [],
   "source": [
    "def draw_boxes_with_read_image(pil_image, detections):\n",
    "    # Convert PIL image to NumPy array in RGB\n",
    "    image_rgb = np.array(pil_image)\n",
    "    h, w = image_rgb.shape[:2]\n",
    "\n",
    "    # Convert RGB to BGR for OpenCV\n",
    "    image_bgr = cv2.cvtColor(image_rgb, cv2.COLOR_RGB2BGR)\n",
    "\n",
    "    for obj in detections:\n",
    "        y1, x1, y2, x2 = obj[\"box_2d\"]\n",
    "        label = obj[\"label\"]\n",
    "\n",
    "        # Scale coordinates (assuming normalized to 1000)\n",
    "        y1 = y1 / 1000 * h\n",
    "        x1 = x1 / 1000 * w\n",
    "        y2 = y2 / 1000 * h\n",
    "        x2 = x2 / 1000 * w\n",
    "\n",
    "        # Ensure coordinates are ordered correctly\n",
    "        if x1 > x2:\n",
    "            x1, x2 = x2, x1\n",
    "        if y1 > y2:\n",
    "            y1, y2 = y2, y1\n",
    "\n",
    "        # Draw rectangle and label\n",
    "        cv2.rectangle(image_bgr, (int(x1), int(y1)), (int(x2), int(y2)), (0, 255, 0), 2)\n",
    "        cv2.putText(image_bgr, label, (int(x1), int(y1) - 10),\n",
    "                    cv2.FONT_HERSHEY_SIMPLEX, 0.6, (255, 0, 0), 2)\n",
    "\n",
    "    # Convert back to PIL\n",
    "    image_rgb_out = cv2.cvtColor(image_bgr, cv2.COLOR_BGR2RGB)\n",
    "    return Image.fromarray(image_rgb_out)"
   ]
  },
  {
   "cell_type": "code",
   "execution_count": 45,
   "id": "6e88ed79",
   "metadata": {},
   "outputs": [],
   "source": [
    "def process_folder(input_folder, output_folder):\n",
    "    os.makedirs(output_folder, exist_ok=True)\n",
    "\n",
    "    for filename in os.listdir(input_folder):\n",
    "        filepath = os.path.join(input_folder, filename)\n",
    "        pil_img = read_image(filepath)\n",
    "        \n",
    "        raw_response = inference(pil_img, prompt+output_prompt)\n",
    "        clean_response = clean_results(raw_response)\n",
    "\n",
    "        output_img = draw_boxes_with_read_image(pil_img, clean_response)\n",
    "        save_path = os.path.join(output_folder, filename)\n",
    "        output_img.save(save_path)\n",
    "\n",
    "        print(f\"Saved annotated image to {save_path}\")"
   ]
  },
  {
   "cell_type": "code",
   "execution_count": 46,
   "id": "912927af",
   "metadata": {},
   "outputs": [
    {
     "name": "stdout",
     "output_type": "stream",
     "text": [
      "Saved annotated image to ./gemini_extracted_images/page_038.png\n",
      "Saved annotated image to ./gemini_extracted_images/page_033.png\n",
      "Saved annotated image to ./gemini_extracted_images/page_013.png\n",
      "Saved annotated image to ./gemini_extracted_images/page_001.png\n",
      "⚠️ JSON parse failed, returning empty list.\n",
      "Saved annotated image to ./gemini_extracted_images/page_041.png\n",
      "Saved annotated image to ./gemini_extracted_images/page_043.png\n"
     ]
    },
    {
     "ename": "KeyboardInterrupt",
     "evalue": "",
     "output_type": "error",
     "traceback": [
      "\u001b[0;31m---------------------------------------------------------------------------\u001b[0m",
      "\u001b[0;31mAttributeError\u001b[0m                            Traceback (most recent call last)",
      "File \u001b[0;32m~/anaconda3/lib/python3.12/site-packages/PIL/ImageFile.py:644\u001b[0m, in \u001b[0;36m_save\u001b[0;34m(im, fp, tile, bufsize)\u001b[0m\n\u001b[1;32m    643\u001b[0m \u001b[38;5;28;01mtry\u001b[39;00m:\n\u001b[0;32m--> 644\u001b[0m     fh \u001b[38;5;241m=\u001b[39m fp\u001b[38;5;241m.\u001b[39mfileno()\n\u001b[1;32m    645\u001b[0m     fp\u001b[38;5;241m.\u001b[39mflush()\n",
      "\u001b[0;31mAttributeError\u001b[0m: '_idat' object has no attribute 'fileno'",
      "\nDuring handling of the above exception, another exception occurred:\n",
      "\u001b[0;31mKeyboardInterrupt\u001b[0m                         Traceback (most recent call last)",
      "Cell \u001b[0;32mIn[46], line 1\u001b[0m\n\u001b[0;32m----> 1\u001b[0m process_folder(INPUT_FOLDER, OUTPUT_PATH)\n",
      "Cell \u001b[0;32mIn[45], line 13\u001b[0m, in \u001b[0;36mprocess_folder\u001b[0;34m(input_folder, output_folder)\u001b[0m\n\u001b[1;32m     11\u001b[0m output_img \u001b[38;5;241m=\u001b[39m draw_boxes_with_read_image(pil_img, clean_response)\n\u001b[1;32m     12\u001b[0m save_path \u001b[38;5;241m=\u001b[39m os\u001b[38;5;241m.\u001b[39mpath\u001b[38;5;241m.\u001b[39mjoin(output_folder, filename)\n\u001b[0;32m---> 13\u001b[0m output_img\u001b[38;5;241m.\u001b[39msave(save_path)\n\u001b[1;32m     15\u001b[0m \u001b[38;5;28mprint\u001b[39m(\u001b[38;5;124mf\u001b[39m\u001b[38;5;124m\"\u001b[39m\u001b[38;5;124mSaved annotated image to \u001b[39m\u001b[38;5;132;01m{\u001b[39;00msave_path\u001b[38;5;132;01m}\u001b[39;00m\u001b[38;5;124m\"\u001b[39m)\n",
      "File \u001b[0;32m~/anaconda3/lib/python3.12/site-packages/PIL/Image.py:2588\u001b[0m, in \u001b[0;36mImage.save\u001b[0;34m(self, fp, format, **params)\u001b[0m\n\u001b[1;32m   2585\u001b[0m     fp \u001b[38;5;241m=\u001b[39m cast(IO[\u001b[38;5;28mbytes\u001b[39m], fp)\n\u001b[1;32m   2587\u001b[0m \u001b[38;5;28;01mtry\u001b[39;00m:\n\u001b[0;32m-> 2588\u001b[0m     save_handler(\u001b[38;5;28mself\u001b[39m, fp, filename)\n\u001b[1;32m   2589\u001b[0m \u001b[38;5;28;01mexcept\u001b[39;00m \u001b[38;5;167;01mException\u001b[39;00m:\n\u001b[1;32m   2590\u001b[0m     \u001b[38;5;28;01mif\u001b[39;00m open_fp:\n",
      "File \u001b[0;32m~/anaconda3/lib/python3.12/site-packages/PIL/PngImagePlugin.py:1495\u001b[0m, in \u001b[0;36m_save\u001b[0;34m(im, fp, filename, chunk, save_all)\u001b[0m\n\u001b[1;32m   1491\u001b[0m     single_im \u001b[38;5;241m=\u001b[39m _write_multiple_frames(\n\u001b[1;32m   1492\u001b[0m         im, fp, chunk, mode, rawmode, default_image, append_images\n\u001b[1;32m   1493\u001b[0m     )\n\u001b[1;32m   1494\u001b[0m \u001b[38;5;28;01mif\u001b[39;00m single_im:\n\u001b[0;32m-> 1495\u001b[0m     ImageFile\u001b[38;5;241m.\u001b[39m_save(\n\u001b[1;32m   1496\u001b[0m         single_im,\n\u001b[1;32m   1497\u001b[0m         cast(IO[\u001b[38;5;28mbytes\u001b[39m], _idat(fp, chunk)),\n\u001b[1;32m   1498\u001b[0m         [ImageFile\u001b[38;5;241m.\u001b[39m_Tile(\u001b[38;5;124m\"\u001b[39m\u001b[38;5;124mzip\u001b[39m\u001b[38;5;124m\"\u001b[39m, (\u001b[38;5;241m0\u001b[39m, \u001b[38;5;241m0\u001b[39m) \u001b[38;5;241m+\u001b[39m single_im\u001b[38;5;241m.\u001b[39msize, \u001b[38;5;241m0\u001b[39m, rawmode)],\n\u001b[1;32m   1499\u001b[0m     )\n\u001b[1;32m   1501\u001b[0m \u001b[38;5;28;01mif\u001b[39;00m info:\n\u001b[1;32m   1502\u001b[0m     \u001b[38;5;28;01mfor\u001b[39;00m info_chunk \u001b[38;5;129;01min\u001b[39;00m info\u001b[38;5;241m.\u001b[39mchunks:\n",
      "File \u001b[0;32m~/anaconda3/lib/python3.12/site-packages/PIL/ImageFile.py:648\u001b[0m, in \u001b[0;36m_save\u001b[0;34m(im, fp, tile, bufsize)\u001b[0m\n\u001b[1;32m    646\u001b[0m     _encode_tile(im, fp, tile, bufsize, fh)\n\u001b[1;32m    647\u001b[0m \u001b[38;5;28;01mexcept\u001b[39;00m (\u001b[38;5;167;01mAttributeError\u001b[39;00m, io\u001b[38;5;241m.\u001b[39mUnsupportedOperation) \u001b[38;5;28;01mas\u001b[39;00m exc:\n\u001b[0;32m--> 648\u001b[0m     _encode_tile(im, fp, tile, bufsize, \u001b[38;5;28;01mNone\u001b[39;00m, exc)\n\u001b[1;32m    649\u001b[0m \u001b[38;5;28;01mif\u001b[39;00m \u001b[38;5;28mhasattr\u001b[39m(fp, \u001b[38;5;124m\"\u001b[39m\u001b[38;5;124mflush\u001b[39m\u001b[38;5;124m\"\u001b[39m):\n\u001b[1;32m    650\u001b[0m     fp\u001b[38;5;241m.\u001b[39mflush()\n",
      "File \u001b[0;32m~/anaconda3/lib/python3.12/site-packages/PIL/ImageFile.py:674\u001b[0m, in \u001b[0;36m_encode_tile\u001b[0;34m(im, fp, tile, bufsize, fh, exc)\u001b[0m\n\u001b[1;32m    671\u001b[0m \u001b[38;5;28;01mif\u001b[39;00m exc:\n\u001b[1;32m    672\u001b[0m     \u001b[38;5;66;03m# compress to Python file-compatible object\u001b[39;00m\n\u001b[1;32m    673\u001b[0m     \u001b[38;5;28;01mwhile\u001b[39;00m \u001b[38;5;28;01mTrue\u001b[39;00m:\n\u001b[0;32m--> 674\u001b[0m         errcode, data \u001b[38;5;241m=\u001b[39m encoder\u001b[38;5;241m.\u001b[39mencode(bufsize)[\u001b[38;5;241m1\u001b[39m:]\n\u001b[1;32m    675\u001b[0m         fp\u001b[38;5;241m.\u001b[39mwrite(data)\n\u001b[1;32m    676\u001b[0m         \u001b[38;5;28;01mif\u001b[39;00m errcode:\n",
      "\u001b[0;31mKeyboardInterrupt\u001b[0m: "
     ]
    }
   ],
   "source": [
    "process_folder(INPUT_FOLDER, OUTPUT_PATH)"
   ]
  },
  {
   "cell_type": "code",
   "execution_count": null,
   "id": "d7e814a7",
   "metadata": {},
   "outputs": [],
   "source": []
  }
 ],
 "metadata": {
  "kernelspec": {
   "display_name": "base",
   "language": "python",
   "name": "python3"
  },
  "language_info": {
   "codemirror_mode": {
    "name": "ipython",
    "version": 3
   },
   "file_extension": ".py",
   "mimetype": "text/x-python",
   "name": "python",
   "nbconvert_exporter": "python",
   "pygments_lexer": "ipython3",
   "version": "3.12.2"
  }
 },
 "nbformat": 4,
 "nbformat_minor": 5
}
